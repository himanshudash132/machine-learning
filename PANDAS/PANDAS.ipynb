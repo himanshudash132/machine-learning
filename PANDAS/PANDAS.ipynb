{
 "cells": [
  {
   "cell_type": "code",
   "execution_count": 1,
   "id": "fcb058e1-7ae9-4d78-a57e-0377299eaa8b",
   "metadata": {},
   "outputs": [],
   "source": [
    "import numpy as np\n",
    "import pandas as pd"
   ]
  },
  {
   "cell_type": "code",
   "execution_count": 2,
   "id": "d81e0ee4-093f-44e8-b2ce-fa1a4f3ffdfc",
   "metadata": {},
   "outputs": [],
   "source": [
    "dict1 = {\n",
    "    \"name\" : ['himsnshu', 'rahul', 'arun','puran' ], \n",
    "    \"marks\": [92, 34, 24, 17],\n",
    "    \"city\" : ['bhubanewar' , 'kolkata' , 'ranpur' , 'NYC']\n",
    "}"
   ]
  },
  {
   "cell_type": "code",
   "execution_count": 3,
   "id": "c994ebbf-72d4-4c00-962a-1225e0e64c0e",
   "metadata": {},
   "outputs": [],
   "source": [
    "df = pd.DataFrame(dict1)"
   ]
  },
  {
   "cell_type": "code",
   "execution_count": 4,
   "id": "93e05097-3f80-473f-8038-3d4ba221bcec",
   "metadata": {},
   "outputs": [
    {
     "data": {
      "text/html": [
       "<div>\n",
       "<style scoped>\n",
       "    .dataframe tbody tr th:only-of-type {\n",
       "        vertical-align: middle;\n",
       "    }\n",
       "\n",
       "    .dataframe tbody tr th {\n",
       "        vertical-align: top;\n",
       "    }\n",
       "\n",
       "    .dataframe thead th {\n",
       "        text-align: right;\n",
       "    }\n",
       "</style>\n",
       "<table border=\"1\" class=\"dataframe\">\n",
       "  <thead>\n",
       "    <tr style=\"text-align: right;\">\n",
       "      <th></th>\n",
       "      <th>name</th>\n",
       "      <th>marks</th>\n",
       "      <th>city</th>\n",
       "    </tr>\n",
       "  </thead>\n",
       "  <tbody>\n",
       "    <tr>\n",
       "      <th>0</th>\n",
       "      <td>himsnshu</td>\n",
       "      <td>92</td>\n",
       "      <td>bhubanewar</td>\n",
       "    </tr>\n",
       "    <tr>\n",
       "      <th>1</th>\n",
       "      <td>rahul</td>\n",
       "      <td>34</td>\n",
       "      <td>kolkata</td>\n",
       "    </tr>\n",
       "    <tr>\n",
       "      <th>2</th>\n",
       "      <td>arun</td>\n",
       "      <td>24</td>\n",
       "      <td>ranpur</td>\n",
       "    </tr>\n",
       "    <tr>\n",
       "      <th>3</th>\n",
       "      <td>puran</td>\n",
       "      <td>17</td>\n",
       "      <td>NYC</td>\n",
       "    </tr>\n",
       "  </tbody>\n",
       "</table>\n",
       "</div>"
      ],
      "text/plain": [
       "       name  marks        city\n",
       "0  himsnshu     92  bhubanewar\n",
       "1     rahul     34     kolkata\n",
       "2      arun     24      ranpur\n",
       "3     puran     17         NYC"
      ]
     },
     "execution_count": 4,
     "metadata": {},
     "output_type": "execute_result"
    }
   ],
   "source": [
    "df"
   ]
  },
  {
   "cell_type": "code",
   "execution_count": 5,
   "id": "d23ec9ae-688d-4c59-ac7a-adaa3074f3d4",
   "metadata": {},
   "outputs": [],
   "source": [
    "df.to_csv('friends.csv')"
   ]
  },
  {
   "cell_type": "code",
   "execution_count": 6,
   "id": "d3ce9b54-d2de-43b0-b3b3-6526c6503206",
   "metadata": {},
   "outputs": [],
   "source": [
    "df.to_csv('friends_index_False.csv' , index = False)"
   ]
  },
  {
   "cell_type": "code",
   "execution_count": 7,
   "id": "50e47c17-1819-4d21-a746-862b55aabd24",
   "metadata": {},
   "outputs": [
    {
     "data": {
      "text/html": [
       "<div>\n",
       "<style scoped>\n",
       "    .dataframe tbody tr th:only-of-type {\n",
       "        vertical-align: middle;\n",
       "    }\n",
       "\n",
       "    .dataframe tbody tr th {\n",
       "        vertical-align: top;\n",
       "    }\n",
       "\n",
       "    .dataframe thead th {\n",
       "        text-align: right;\n",
       "    }\n",
       "</style>\n",
       "<table border=\"1\" class=\"dataframe\">\n",
       "  <thead>\n",
       "    <tr style=\"text-align: right;\">\n",
       "      <th></th>\n",
       "      <th>name</th>\n",
       "      <th>marks</th>\n",
       "      <th>city</th>\n",
       "    </tr>\n",
       "  </thead>\n",
       "  <tbody>\n",
       "    <tr>\n",
       "      <th>0</th>\n",
       "      <td>himsnshu</td>\n",
       "      <td>92</td>\n",
       "      <td>bhubanewar</td>\n",
       "    </tr>\n",
       "    <tr>\n",
       "      <th>1</th>\n",
       "      <td>rahul</td>\n",
       "      <td>34</td>\n",
       "      <td>kolkata</td>\n",
       "    </tr>\n",
       "  </tbody>\n",
       "</table>\n",
       "</div>"
      ],
      "text/plain": [
       "       name  marks        city\n",
       "0  himsnshu     92  bhubanewar\n",
       "1     rahul     34     kolkata"
      ]
     },
     "execution_count": 7,
     "metadata": {},
     "output_type": "execute_result"
    }
   ],
   "source": [
    "df.head(2)"
   ]
  },
  {
   "cell_type": "code",
   "execution_count": 8,
   "id": "fa07a9a9-bc43-4679-9227-40fb43a9d881",
   "metadata": {},
   "outputs": [
    {
     "data": {
      "text/html": [
       "<div>\n",
       "<style scoped>\n",
       "    .dataframe tbody tr th:only-of-type {\n",
       "        vertical-align: middle;\n",
       "    }\n",
       "\n",
       "    .dataframe tbody tr th {\n",
       "        vertical-align: top;\n",
       "    }\n",
       "\n",
       "    .dataframe thead th {\n",
       "        text-align: right;\n",
       "    }\n",
       "</style>\n",
       "<table border=\"1\" class=\"dataframe\">\n",
       "  <thead>\n",
       "    <tr style=\"text-align: right;\">\n",
       "      <th></th>\n",
       "      <th>name</th>\n",
       "      <th>marks</th>\n",
       "      <th>city</th>\n",
       "    </tr>\n",
       "  </thead>\n",
       "  <tbody>\n",
       "    <tr>\n",
       "      <th>2</th>\n",
       "      <td>arun</td>\n",
       "      <td>24</td>\n",
       "      <td>ranpur</td>\n",
       "    </tr>\n",
       "    <tr>\n",
       "      <th>3</th>\n",
       "      <td>puran</td>\n",
       "      <td>17</td>\n",
       "      <td>NYC</td>\n",
       "    </tr>\n",
       "  </tbody>\n",
       "</table>\n",
       "</div>"
      ],
      "text/plain": [
       "    name  marks    city\n",
       "2   arun     24  ranpur\n",
       "3  puran     17     NYC"
      ]
     },
     "execution_count": 8,
     "metadata": {},
     "output_type": "execute_result"
    }
   ],
   "source": [
    "df.tail(2)"
   ]
  },
  {
   "cell_type": "code",
   "execution_count": 9,
   "id": "3d3a3882-5c5f-4911-b45d-8f6cbec2fb1f",
   "metadata": {},
   "outputs": [
    {
     "data": {
      "text/html": [
       "<div>\n",
       "<style scoped>\n",
       "    .dataframe tbody tr th:only-of-type {\n",
       "        vertical-align: middle;\n",
       "    }\n",
       "\n",
       "    .dataframe tbody tr th {\n",
       "        vertical-align: top;\n",
       "    }\n",
       "\n",
       "    .dataframe thead th {\n",
       "        text-align: right;\n",
       "    }\n",
       "</style>\n",
       "<table border=\"1\" class=\"dataframe\">\n",
       "  <thead>\n",
       "    <tr style=\"text-align: right;\">\n",
       "      <th></th>\n",
       "      <th>marks</th>\n",
       "    </tr>\n",
       "  </thead>\n",
       "  <tbody>\n",
       "    <tr>\n",
       "      <th>count</th>\n",
       "      <td>4.00000</td>\n",
       "    </tr>\n",
       "    <tr>\n",
       "      <th>mean</th>\n",
       "      <td>41.75000</td>\n",
       "    </tr>\n",
       "    <tr>\n",
       "      <th>std</th>\n",
       "      <td>34.21866</td>\n",
       "    </tr>\n",
       "    <tr>\n",
       "      <th>min</th>\n",
       "      <td>17.00000</td>\n",
       "    </tr>\n",
       "    <tr>\n",
       "      <th>25%</th>\n",
       "      <td>22.25000</td>\n",
       "    </tr>\n",
       "    <tr>\n",
       "      <th>50%</th>\n",
       "      <td>29.00000</td>\n",
       "    </tr>\n",
       "    <tr>\n",
       "      <th>75%</th>\n",
       "      <td>48.50000</td>\n",
       "    </tr>\n",
       "    <tr>\n",
       "      <th>max</th>\n",
       "      <td>92.00000</td>\n",
       "    </tr>\n",
       "  </tbody>\n",
       "</table>\n",
       "</div>"
      ],
      "text/plain": [
       "          marks\n",
       "count   4.00000\n",
       "mean   41.75000\n",
       "std    34.21866\n",
       "min    17.00000\n",
       "25%    22.25000\n",
       "50%    29.00000\n",
       "75%    48.50000\n",
       "max    92.00000"
      ]
     },
     "execution_count": 9,
     "metadata": {},
     "output_type": "execute_result"
    }
   ],
   "source": [
    "df.describe()"
   ]
  },
  {
   "cell_type": "code",
   "execution_count": 10,
   "id": "31bdeb23-6abb-44a4-9e3f-df47e3754bec",
   "metadata": {},
   "outputs": [],
   "source": [
    "himanshu = pd.read_csv('him.csv')"
   ]
  },
  {
   "cell_type": "code",
   "execution_count": 11,
   "id": "e96885dc-922e-4e4f-b1cc-90e620fff154",
   "metadata": {},
   "outputs": [
    {
     "data": {
      "text/html": [
       "<div>\n",
       "<style scoped>\n",
       "    .dataframe tbody tr th:only-of-type {\n",
       "        vertical-align: middle;\n",
       "    }\n",
       "\n",
       "    .dataframe tbody tr th {\n",
       "        vertical-align: top;\n",
       "    }\n",
       "\n",
       "    .dataframe thead th {\n",
       "        text-align: right;\n",
       "    }\n",
       "</style>\n",
       "<table border=\"1\" class=\"dataframe\">\n",
       "  <thead>\n",
       "    <tr style=\"text-align: right;\">\n",
       "      <th></th>\n",
       "      <th>train nos</th>\n",
       "      <th>speeds</th>\n",
       "      <th>citys</th>\n",
       "    </tr>\n",
       "  </thead>\n",
       "  <tbody>\n",
       "    <tr>\n",
       "      <th>0</th>\n",
       "      <td>11</td>\n",
       "      <td>50</td>\n",
       "      <td>bhubanewar</td>\n",
       "    </tr>\n",
       "    <tr>\n",
       "      <th>1</th>\n",
       "      <td>22</td>\n",
       "      <td>34</td>\n",
       "      <td>kolkata</td>\n",
       "    </tr>\n",
       "    <tr>\n",
       "      <th>2</th>\n",
       "      <td>33</td>\n",
       "      <td>24</td>\n",
       "      <td>ranpur</td>\n",
       "    </tr>\n",
       "    <tr>\n",
       "      <th>3</th>\n",
       "      <td>44</td>\n",
       "      <td>17</td>\n",
       "      <td>NYC</td>\n",
       "    </tr>\n",
       "  </tbody>\n",
       "</table>\n",
       "</div>"
      ],
      "text/plain": [
       "   train nos  speeds       citys\n",
       "0         11      50  bhubanewar\n",
       "1         22      34     kolkata\n",
       "2         33      24      ranpur\n",
       "3         44      17         NYC"
      ]
     },
     "execution_count": 11,
     "metadata": {},
     "output_type": "execute_result"
    }
   ],
   "source": [
    "himanshu"
   ]
  },
  {
   "cell_type": "code",
   "execution_count": 12,
   "id": "2a690436-f806-4c69-8f2b-4dd329935737",
   "metadata": {},
   "outputs": [
    {
     "ename": "KeyError",
     "evalue": "'speed'",
     "output_type": "error",
     "traceback": [
      "\u001b[1;31m---------------------------------------------------------------------------\u001b[0m",
      "\u001b[1;31mKeyError\u001b[0m                                  Traceback (most recent call last)",
      "File \u001b[1;32m~\\AppData\\Local\\Programs\\Python\\Python311\\Lib\\site-packages\\pandas\\core\\indexes\\base.py:3653\u001b[0m, in \u001b[0;36mIndex.get_loc\u001b[1;34m(self, key)\u001b[0m\n\u001b[0;32m   3652\u001b[0m \u001b[38;5;28;01mtry\u001b[39;00m:\n\u001b[1;32m-> 3653\u001b[0m     \u001b[38;5;28;01mreturn\u001b[39;00m \u001b[38;5;28;43mself\u001b[39;49m\u001b[38;5;241;43m.\u001b[39;49m\u001b[43m_engine\u001b[49m\u001b[38;5;241;43m.\u001b[39;49m\u001b[43mget_loc\u001b[49m\u001b[43m(\u001b[49m\u001b[43mcasted_key\u001b[49m\u001b[43m)\u001b[49m\n\u001b[0;32m   3654\u001b[0m \u001b[38;5;28;01mexcept\u001b[39;00m \u001b[38;5;167;01mKeyError\u001b[39;00m \u001b[38;5;28;01mas\u001b[39;00m err:\n",
      "File \u001b[1;32m~\\AppData\\Local\\Programs\\Python\\Python311\\Lib\\site-packages\\pandas\\_libs\\index.pyx:147\u001b[0m, in \u001b[0;36mpandas._libs.index.IndexEngine.get_loc\u001b[1;34m()\u001b[0m\n",
      "File \u001b[1;32m~\\AppData\\Local\\Programs\\Python\\Python311\\Lib\\site-packages\\pandas\\_libs\\index.pyx:176\u001b[0m, in \u001b[0;36mpandas._libs.index.IndexEngine.get_loc\u001b[1;34m()\u001b[0m\n",
      "File \u001b[1;32mpandas\\_libs\\hashtable_class_helper.pxi:7080\u001b[0m, in \u001b[0;36mpandas._libs.hashtable.PyObjectHashTable.get_item\u001b[1;34m()\u001b[0m\n",
      "File \u001b[1;32mpandas\\_libs\\hashtable_class_helper.pxi:7088\u001b[0m, in \u001b[0;36mpandas._libs.hashtable.PyObjectHashTable.get_item\u001b[1;34m()\u001b[0m\n",
      "\u001b[1;31mKeyError\u001b[0m: 'speed'",
      "\nThe above exception was the direct cause of the following exception:\n",
      "\u001b[1;31mKeyError\u001b[0m                                  Traceback (most recent call last)",
      "Cell \u001b[1;32mIn[12], line 1\u001b[0m\n\u001b[1;32m----> 1\u001b[0m \u001b[43mhimanshu\u001b[49m\u001b[43m[\u001b[49m\u001b[38;5;124;43m'\u001b[39;49m\u001b[38;5;124;43mspeed\u001b[39;49m\u001b[38;5;124;43m'\u001b[39;49m\u001b[43m]\u001b[49m\n",
      "File \u001b[1;32m~\\AppData\\Local\\Programs\\Python\\Python311\\Lib\\site-packages\\pandas\\core\\frame.py:3761\u001b[0m, in \u001b[0;36mDataFrame.__getitem__\u001b[1;34m(self, key)\u001b[0m\n\u001b[0;32m   3759\u001b[0m \u001b[38;5;28;01mif\u001b[39;00m \u001b[38;5;28mself\u001b[39m\u001b[38;5;241m.\u001b[39mcolumns\u001b[38;5;241m.\u001b[39mnlevels \u001b[38;5;241m>\u001b[39m \u001b[38;5;241m1\u001b[39m:\n\u001b[0;32m   3760\u001b[0m     \u001b[38;5;28;01mreturn\u001b[39;00m \u001b[38;5;28mself\u001b[39m\u001b[38;5;241m.\u001b[39m_getitem_multilevel(key)\n\u001b[1;32m-> 3761\u001b[0m indexer \u001b[38;5;241m=\u001b[39m \u001b[38;5;28;43mself\u001b[39;49m\u001b[38;5;241;43m.\u001b[39;49m\u001b[43mcolumns\u001b[49m\u001b[38;5;241;43m.\u001b[39;49m\u001b[43mget_loc\u001b[49m\u001b[43m(\u001b[49m\u001b[43mkey\u001b[49m\u001b[43m)\u001b[49m\n\u001b[0;32m   3762\u001b[0m \u001b[38;5;28;01mif\u001b[39;00m is_integer(indexer):\n\u001b[0;32m   3763\u001b[0m     indexer \u001b[38;5;241m=\u001b[39m [indexer]\n",
      "File \u001b[1;32m~\\AppData\\Local\\Programs\\Python\\Python311\\Lib\\site-packages\\pandas\\core\\indexes\\base.py:3655\u001b[0m, in \u001b[0;36mIndex.get_loc\u001b[1;34m(self, key)\u001b[0m\n\u001b[0;32m   3653\u001b[0m     \u001b[38;5;28;01mreturn\u001b[39;00m \u001b[38;5;28mself\u001b[39m\u001b[38;5;241m.\u001b[39m_engine\u001b[38;5;241m.\u001b[39mget_loc(casted_key)\n\u001b[0;32m   3654\u001b[0m \u001b[38;5;28;01mexcept\u001b[39;00m \u001b[38;5;167;01mKeyError\u001b[39;00m \u001b[38;5;28;01mas\u001b[39;00m err:\n\u001b[1;32m-> 3655\u001b[0m     \u001b[38;5;28;01mraise\u001b[39;00m \u001b[38;5;167;01mKeyError\u001b[39;00m(key) \u001b[38;5;28;01mfrom\u001b[39;00m \u001b[38;5;21;01merr\u001b[39;00m\n\u001b[0;32m   3656\u001b[0m \u001b[38;5;28;01mexcept\u001b[39;00m \u001b[38;5;167;01mTypeError\u001b[39;00m:\n\u001b[0;32m   3657\u001b[0m     \u001b[38;5;66;03m# If we have a listlike key, _check_indexing_error will raise\u001b[39;00m\n\u001b[0;32m   3658\u001b[0m     \u001b[38;5;66;03m#  InvalidIndexError. Otherwise we fall through and re-raise\u001b[39;00m\n\u001b[0;32m   3659\u001b[0m     \u001b[38;5;66;03m#  the TypeError.\u001b[39;00m\n\u001b[0;32m   3660\u001b[0m     \u001b[38;5;28mself\u001b[39m\u001b[38;5;241m.\u001b[39m_check_indexing_error(key)\n",
      "\u001b[1;31mKeyError\u001b[0m: 'speed'"
     ]
    }
   ],
   "source": [
    "himanshu['speed']"
   ]
  },
  {
   "cell_type": "code",
   "execution_count": null,
   "id": "d20ccd33-a547-45d0-b2cb-b4a1c6dc426e",
   "metadata": {},
   "outputs": [],
   "source": [
    "himanshu['speed'][0]"
   ]
  },
  {
   "cell_type": "code",
   "execution_count": null,
   "id": "b18180b7-ba8a-48c2-9474-f13a2c21107f",
   "metadata": {},
   "outputs": [],
   "source": [
    "himanshu['speed'][0] = 50"
   ]
  },
  {
   "cell_type": "code",
   "execution_count": null,
   "id": "e5a862a8-2495-4370-bfd0-2264a77dc83b",
   "metadata": {},
   "outputs": [],
   "source": [
    "himanshu"
   ]
  },
  {
   "cell_type": "code",
   "execution_count": null,
   "id": "2c90dca1-2a4b-4137-bf2c-279e71fc7b4c",
   "metadata": {},
   "outputs": [],
   "source": [
    "himanshu.to_csv('him.csv')"
   ]
  },
  {
   "cell_type": "code",
   "execution_count": null,
   "id": "c50c5ce4-5654-4f8a-9700-084a1a1f383f",
   "metadata": {},
   "outputs": [],
   "source": [
    "himanshu.index = ['first' , 'second', 'third', 'fourth']"
   ]
  },
  {
   "cell_type": "code",
   "execution_count": null,
   "id": "f7a5cc2e-b199-4119-9bf8-3b8bf801e352",
   "metadata": {},
   "outputs": [],
   "source": [
    "himanshu"
   ]
  },
  {
   "cell_type": "code",
   "execution_count": null,
   "id": "ba8de9e9-1630-4228-b226-ed54f07f9150",
   "metadata": {},
   "outputs": [],
   "source": [
    "ser = pd.Series(np.random.rand(34))"
   ]
  },
  {
   "cell_type": "code",
   "execution_count": null,
   "id": "a2e26d6b-e952-42ba-bc28-b4fbd1238a68",
   "metadata": {},
   "outputs": [],
   "source": [
    "ser"
   ]
  },
  {
   "cell_type": "code",
   "execution_count": null,
   "id": "dfb96b3c-59e5-4d19-ba01-1ec270a50fda",
   "metadata": {},
   "outputs": [],
   "source": [
    "type(ser)"
   ]
  },
  {
   "cell_type": "code",
   "execution_count": null,
   "id": "934cd54c-2ce8-490a-a901-b7504110ff7f",
   "metadata": {},
   "outputs": [],
   "source": [
    "newdf = pd.DataFrame(np.random.rand(334,5) , index = np.arange(334))"
   ]
  },
  {
   "cell_type": "code",
   "execution_count": null,
   "id": "e6503599-51af-4d7b-bea7-6fed32e899be",
   "metadata": {},
   "outputs": [],
   "source": [
    "newdf.head()"
   ]
  },
  {
   "cell_type": "code",
   "execution_count": null,
   "id": "214dc39a-3b78-4562-8380-7df3487272c7",
   "metadata": {},
   "outputs": [],
   "source": [
    "newdf"
   ]
  },
  {
   "cell_type": "code",
   "execution_count": null,
   "id": "6dee7d76-f9bf-46ef-8145-276c7ddd4235",
   "metadata": {},
   "outputs": [],
   "source": [
    "type(newdf)"
   ]
  },
  {
   "cell_type": "code",
   "execution_count": null,
   "id": "666d0058-4a1e-486d-8e9d-7147e6cfe0d1",
   "metadata": {},
   "outputs": [],
   "source": [
    "newdf.describe()"
   ]
  },
  {
   "cell_type": "code",
   "execution_count": null,
   "id": "42ba0c0b-b408-462a-b390-17ceff3c2ce1",
   "metadata": {},
   "outputs": [],
   "source": [
    "newdf.dtypes"
   ]
  },
  {
   "cell_type": "code",
   "execution_count": null,
   "id": "e70a86bd-dd55-4026-8ff8-57f646b78b03",
   "metadata": {},
   "outputs": [],
   "source": [
    "newdf[0][0] = \"himanshu\""
   ]
  },
  {
   "cell_type": "code",
   "execution_count": null,
   "id": "9a75de11-d07d-40d3-a91b-b90ae4471645",
   "metadata": {},
   "outputs": [],
   "source": [
    "newdf.dtypes"
   ]
  },
  {
   "cell_type": "code",
   "execution_count": null,
   "id": "1df04fb3-52d8-483f-aae3-13350e35d559",
   "metadata": {},
   "outputs": [],
   "source": [
    "newdf"
   ]
  },
  {
   "cell_type": "code",
   "execution_count": null,
   "id": "4679b8ff-4c97-4005-b04f-60e3110eea8f",
   "metadata": {},
   "outputs": [],
   "source": [
    "newdf.index"
   ]
  },
  {
   "cell_type": "code",
   "execution_count": null,
   "id": "c0443254-3e5c-44f7-8081-01b552a1b1ec",
   "metadata": {},
   "outputs": [],
   "source": [
    "newdf.columns"
   ]
  },
  {
   "cell_type": "code",
   "execution_count": null,
   "id": "cf02409e-e389-4c58-ac00-72c3c5976f0a",
   "metadata": {},
   "outputs": [],
   "source": [
    "newdf.to_numpy()"
   ]
  },
  {
   "cell_type": "code",
   "execution_count": null,
   "id": "b73e380e-5559-4390-8352-95bcb3d58240",
   "metadata": {},
   "outputs": [],
   "source": [
    "newdf[0][0] = 34"
   ]
  },
  {
   "cell_type": "code",
   "execution_count": null,
   "id": "c8bee1c7-198d-4955-ac4e-85ec974c62ed",
   "metadata": {},
   "outputs": [],
   "source": [
    "newdf.head()"
   ]
  },
  {
   "cell_type": "code",
   "execution_count": null,
   "id": "2a575e0d-ead0-4737-9c2e-2efcff14e6ca",
   "metadata": {},
   "outputs": [],
   "source": [
    "newdf.T"
   ]
  },
  {
   "cell_type": "code",
   "execution_count": null,
   "id": "c3cbe59c-b562-4bfe-a5a5-281fecdcd5da",
   "metadata": {},
   "outputs": [],
   "source": [
    "newdf.T.T"
   ]
  },
  {
   "cell_type": "code",
   "execution_count": null,
   "id": "b4cf5477-0268-42c3-8eeb-01cac8b3b0c0",
   "metadata": {},
   "outputs": [],
   "source": [
    "newdf.sort_index(axis = 0 , ascending = False)"
   ]
  },
  {
   "cell_type": "code",
   "execution_count": null,
   "id": "b10b2026-8d45-4c60-9c61-e0519c62c5ab",
   "metadata": {},
   "outputs": [],
   "source": [
    "newdf.sort_index(axis = 1 , ascending = False)"
   ]
  },
  {
   "cell_type": "code",
   "execution_count": null,
   "id": "c2053a66-f982-4e3d-b2d9-7253ca2f3412",
   "metadata": {},
   "outputs": [],
   "source": [
    "type(newdf[0])"
   ]
  },
  {
   "cell_type": "code",
   "execution_count": null,
   "id": "54931276-be3c-4c8d-8bb1-c9ec51ce1937",
   "metadata": {},
   "outputs": [],
   "source": [
    "newdf2 = newdf"
   ]
  },
  {
   "cell_type": "code",
   "execution_count": null,
   "id": "16af7f8e-efb3-4b56-ade0-bcaf95a34677",
   "metadata": {},
   "outputs": [],
   "source": [
    "newdf2[0][0] = 9783"
   ]
  },
  {
   "cell_type": "code",
   "execution_count": null,
   "id": "409eaf20-418b-452f-b740-4d404b2155d3",
   "metadata": {},
   "outputs": [],
   "source": [
    "newdf"
   ]
  },
  {
   "cell_type": "code",
   "execution_count": null,
   "id": "375082e4-3ca8-46fd-8d26-e65b5f42e478",
   "metadata": {},
   "outputs": [],
   "source": [
    "newdf2 = newdf.copy()"
   ]
  },
  {
   "cell_type": "code",
   "execution_count": null,
   "id": "c9bf0ac8-e5c5-4717-b83d-6f19cacda6dc",
   "metadata": {},
   "outputs": [],
   "source": [
    "newdf2[0][0] = 97835"
   ]
  },
  {
   "cell_type": "code",
   "execution_count": null,
   "id": "09e6dc95-ee12-4c6a-99d4-ed973af63f31",
   "metadata": {},
   "outputs": [],
   "source": [
    "newdf"
   ]
  },
  {
   "cell_type": "code",
   "execution_count": null,
   "id": "0525e3e0-27d4-4ee6-bc6e-0d6d0dbdb80c",
   "metadata": {},
   "outputs": [],
   "source": [
    "newdf.loc[0,0] = 654"
   ]
  },
  {
   "cell_type": "code",
   "execution_count": null,
   "id": "dc23ed18-ebea-488c-a016-91e37114eca3",
   "metadata": {},
   "outputs": [],
   "source": [
    "newdf.head(2)"
   ]
  },
  {
   "cell_type": "code",
   "execution_count": null,
   "id": "252be034-2395-4974-a63e-a272e9ce189c",
   "metadata": {},
   "outputs": [],
   "source": [
    "newdf.columns = list(\"ABCDE\")"
   ]
  },
  {
   "cell_type": "code",
   "execution_count": null,
   "id": "fc349b16-2a66-4584-9c95-efa72bf57d37",
   "metadata": {},
   "outputs": [],
   "source": [
    "newdf.head(2)"
   ]
  },
  {
   "cell_type": "code",
   "execution_count": null,
   "id": "d061413f-dfc1-4ade-a854-23ab468552a2",
   "metadata": {},
   "outputs": [],
   "source": [
    "newdf.loc[0,'A'] = 654"
   ]
  },
  {
   "cell_type": "code",
   "execution_count": null,
   "id": "b405a26f-d5a6-4a47-89f9-9a84efee4272",
   "metadata": {},
   "outputs": [],
   "source": [
    "newdf.head(2)"
   ]
  },
  {
   "cell_type": "code",
   "execution_count": null,
   "id": "0b450581-a761-44bb-8744-2b4def5dcf33",
   "metadata": {},
   "outputs": [],
   "source": [
    "newdf.loc[0,0] = 6549"
   ]
  },
  {
   "cell_type": "code",
   "execution_count": null,
   "id": "4defb607-740e-4535-8b6a-801fed407bfa",
   "metadata": {},
   "outputs": [],
   "source": [
    "newdf.head(2)"
   ]
  },
  {
   "cell_type": "code",
   "execution_count": null,
   "id": "37b14588-edb3-42b2-9e41-4ed41be8520f",
   "metadata": {},
   "outputs": [],
   "source": [
    "newdf =newdf.drop(0, axis = 1)"
   ]
  },
  {
   "cell_type": "code",
   "execution_count": null,
   "id": "48572806-d36e-4fc0-9d2a-161238aeaef1",
   "metadata": {},
   "outputs": [],
   "source": [
    "newdf.head()"
   ]
  },
  {
   "cell_type": "code",
   "execution_count": null,
   "id": "03811a0d-0132-45c6-b869-74bae170f1ca",
   "metadata": {},
   "outputs": [],
   "source": [
    "newdf.loc[[1,2] , ['C', 'D']]"
   ]
  },
  {
   "cell_type": "code",
   "execution_count": null,
   "id": "3d93cc30-ed60-4e6e-93ed-1b181f371cf4",
   "metadata": {},
   "outputs": [],
   "source": [
    "newdf.head()"
   ]
  },
  {
   "cell_type": "code",
   "execution_count": null,
   "id": "348f1687-4767-48f3-b499-9fa7d71a3ae0",
   "metadata": {},
   "outputs": [],
   "source": [
    "newdf.loc[:, ['C', 'D']]"
   ]
  },
  {
   "cell_type": "code",
   "execution_count": null,
   "id": "655e63b8-a336-4fc4-a5ec-64171b78cd09",
   "metadata": {},
   "outputs": [],
   "source": [
    "newdf.loc[[1,2] , :]"
   ]
  },
  {
   "cell_type": "code",
   "execution_count": null,
   "id": "6bd1bb4a-1393-410c-845f-3306bb9b4f9c",
   "metadata": {},
   "outputs": [],
   "source": [
    "newdf.loc[(newdf['A']<0.3)]"
   ]
  },
  {
   "cell_type": "code",
   "execution_count": null,
   "id": "1eb583eb-0165-49b9-a926-a4c283224e4f",
   "metadata": {},
   "outputs": [],
   "source": [
    "newdf.loc[(newdf['A']<0.3) & (newdf['A']>0.1)]"
   ]
  },
  {
   "cell_type": "code",
   "execution_count": null,
   "id": "ee0be7bc-6c75-4793-a51b-811f1bd44d23",
   "metadata": {},
   "outputs": [],
   "source": [
    "newdf.head(2)"
   ]
  },
  {
   "cell_type": "code",
   "execution_count": null,
   "id": "a4c7edf9-57cc-4fcd-82a4-abcc92054f6e",
   "metadata": {},
   "outputs": [],
   "source": [
    "newdf.iloc[0,4]"
   ]
  },
  {
   "cell_type": "code",
   "execution_count": null,
   "id": "de09e861-5086-4917-9196-b30f0e53a1bb",
   "metadata": {},
   "outputs": [],
   "source": [
    "newdf.iloc[[0,1], [1,2]]"
   ]
  },
  {
   "cell_type": "code",
   "execution_count": null,
   "id": "89643f6d-6999-45fc-933d-e74ce1ef5646",
   "metadata": {},
   "outputs": [],
   "source": [
    "newdf.head(3)"
   ]
  },
  {
   "cell_type": "code",
   "execution_count": null,
   "id": "7f39ad27-6384-4a44-85ce-eed79eb438a8",
   "metadata": {},
   "outputs": [],
   "source": [
    "newdf.drop([0])"
   ]
  },
  {
   "cell_type": "code",
   "execution_count": null,
   "id": "c1595781-ffe0-4408-a6f5-f9f5303302d9",
   "metadata": {},
   "outputs": [],
   "source": [
    "newdf.drop(['A'], axis =1)"
   ]
  },
  {
   "cell_type": "code",
   "execution_count": null,
   "id": "db21761c-f528-49c1-aa46-bf8885c9d450",
   "metadata": {},
   "outputs": [],
   "source": [
    "newdf.drop(['A','D'], axis =1)"
   ]
  },
  {
   "cell_type": "code",
   "execution_count": null,
   "id": "04de98dd-507d-46c2-9df2-6019511a28ff",
   "metadata": {},
   "outputs": [],
   "source": [
    "newdf.drop(['A','D'], axis =1, inplace=True)"
   ]
  },
  {
   "cell_type": "code",
   "execution_count": null,
   "id": "0a008ce9-929e-43a3-b72f-d51b045d0b33",
   "metadata": {},
   "outputs": [],
   "source": [
    "newdf"
   ]
  },
  {
   "cell_type": "code",
   "execution_count": null,
   "id": "693bfc70-2c34-4fcc-91df-163fe06a6a9e",
   "metadata": {},
   "outputs": [],
   "source": [
    "newdf.drop([1,5], axis =0, inplace=True)"
   ]
  },
  {
   "cell_type": "code",
   "execution_count": null,
   "id": "ceb86110-bacb-474a-8f05-ebfdba54886a",
   "metadata": {},
   "outputs": [],
   "source": [
    "newdf.head()"
   ]
  },
  {
   "cell_type": "code",
   "execution_count": null,
   "id": "43b52ae4-77ce-4a82-a1ad-99a290b4458f",
   "metadata": {},
   "outputs": [],
   "source": [
    "newdf.reset_index()"
   ]
  },
  {
   "cell_type": "code",
   "execution_count": null,
   "id": "5a9ce63f-df8c-408e-99ea-09dc0fd81550",
   "metadata": {},
   "outputs": [],
   "source": [
    "newdf.reset_index(drop=True, inplace=True)"
   ]
  },
  {
   "cell_type": "code",
   "execution_count": null,
   "id": "f335458e-0932-4d04-b464-848a9ce9aa28",
   "metadata": {},
   "outputs": [],
   "source": [
    "newdf"
   ]
  },
  {
   "cell_type": "code",
   "execution_count": null,
   "id": "82ff5869-1eca-4ab5-aa32-7865e66c8987",
   "metadata": {},
   "outputs": [],
   "source": [
    "newdf.head(3)"
   ]
  },
  {
   "cell_type": "code",
   "execution_count": null,
   "id": "b8e12685-80c0-4212-ab40-dded33b98c4a",
   "metadata": {},
   "outputs": [],
   "source": [
    "newdf['B'].isnull()"
   ]
  },
  {
   "cell_type": "code",
   "execution_count": null,
   "id": "29fee3e6-1bf0-41f4-84d5-a0a10db3207b",
   "metadata": {},
   "outputs": [],
   "source": [
    "newdf['B'] = None"
   ]
  },
  {
   "cell_type": "code",
   "execution_count": null,
   "id": "8fbfc224-e42c-4903-aed3-ec3c0de3c184",
   "metadata": {},
   "outputs": [],
   "source": [
    "newdf"
   ]
  },
  {
   "cell_type": "code",
   "execution_count": null,
   "id": "7bd27820-2eff-4033-9f5f-62176b1e7130",
   "metadata": {},
   "outputs": [],
   "source": [
    "newdf.loc[:, ['B']] = 56"
   ]
  },
  {
   "cell_type": "code",
   "execution_count": null,
   "id": "52203ff4-4f52-48f0-bf4c-d5d36099f64c",
   "metadata": {},
   "outputs": [],
   "source": [
    "newdf.head()"
   ]
  },
  {
   "cell_type": "code",
   "execution_count": null,
   "id": "528d1f97-b646-4085-8aec-696899c6f58b",
   "metadata": {},
   "outputs": [],
   "source": [
    "df =  pd.DataFrame({\n",
    "    \"name\" : ['Alfred', 'Batman', 'Catwomen' ], \n",
    "    \"toy\": [np.nan, 'Batmobile','Bullwhip'],\n",
    "    \"born\" : [pd.NaT,pd.Timestamp(\"1940-04-25\"),pd.NaT]\n",
    "})"
   ]
  },
  {
   "cell_type": "code",
   "execution_count": null,
   "id": "6ccf1384-b71e-4089-a1c5-cc848fb7af54",
   "metadata": {},
   "outputs": [],
   "source": [
    "df.head()"
   ]
  },
  {
   "cell_type": "code",
   "execution_count": null,
   "id": "0d7c7646-f222-4115-95bf-9200dad99e9f",
   "metadata": {},
   "outputs": [],
   "source": [
    "df.dropna()"
   ]
  },
  {
   "cell_type": "code",
   "execution_count": null,
   "id": "af2d3f99-58af-4b78-8327-44dbd3ffa58c",
   "metadata": {},
   "outputs": [],
   "source": [
    "df.dropna(how='all' , axis =1)"
   ]
  },
  {
   "cell_type": "code",
   "execution_count": null,
   "id": "4673a655-05ff-4bf6-8894-08e7c4eaec19",
   "metadata": {},
   "outputs": [],
   "source": [
    "df.drop_duplicates()"
   ]
  },
  {
   "cell_type": "code",
   "execution_count": null,
   "id": "59e79b1d-9db2-40be-8cc1-b1bc5e091561",
   "metadata": {},
   "outputs": [],
   "source": [
    "df.drop_duplicates(subset=['name'],keep='last')"
   ]
  },
  {
   "cell_type": "code",
   "execution_count": null,
   "id": "b0887b37-c2b4-49aa-8f99-0e019e49a833",
   "metadata": {},
   "outputs": [],
   "source": [
    "df.drop_duplicates(subset=['name'],keep=False)"
   ]
  },
  {
   "cell_type": "code",
   "execution_count": null,
   "id": "ed895cfe-d515-4022-a67c-162e50f6bca1",
   "metadata": {},
   "outputs": [],
   "source": [
    "df.shape"
   ]
  },
  {
   "cell_type": "code",
   "execution_count": null,
   "id": "491b17a1-0685-4fca-966a-2937cb5f95d0",
   "metadata": {},
   "outputs": [],
   "source": [
    "df.info()"
   ]
  },
  {
   "cell_type": "code",
   "execution_count": null,
   "id": "9e3ead44-2760-4cdd-b6ec-c61c02d0ad4b",
   "metadata": {},
   "outputs": [],
   "source": [
    "df['name'].value_counts(dropna =False)"
   ]
  },
  {
   "cell_type": "code",
   "execution_count": null,
   "id": "243590d8-7810-4d82-a13a-58a57c49e95c",
   "metadata": {},
   "outputs": [],
   "source": [
    "df['toy'].value_counts(dropna =False)"
   ]
  },
  {
   "cell_type": "code",
   "execution_count": null,
   "id": "0142e92c-d798-415b-9bfc-c70f4890c2f9",
   "metadata": {},
   "outputs": [],
   "source": [
    "df.notnull()"
   ]
  },
  {
   "cell_type": "code",
   "execution_count": null,
   "id": "77af58fe-45da-4d4a-b255-7122ee90605b",
   "metadata": {},
   "outputs": [],
   "source": [
    "df.isnull()"
   ]
  },
  {
   "cell_type": "code",
   "execution_count": null,
   "id": "3e0f7934-170d-4086-bda4-af1d02c53937",
   "metadata": {},
   "outputs": [],
   "source": [
    "# create  a dataframe which contains only integer with 3 rows and 3 columns\n",
    "#run the following dataframe method on them:\n",
    "\n",
    "# df.describe()\n",
    "# df.mean()\n",
    "# df.corr()\n",
    "# df.count()\n",
    "# df.max()\n",
    "# df.min()\n",
    "# df.median()\n",
    "# df.std()"
   ]
  },
  {
   "cell_type": "code",
   "execution_count": null,
   "id": "b284925b-c58f-4209-aa7a-21af96d21019",
   "metadata": {},
   "outputs": [],
   "source": [
    "import pandas as pd\n",
    "import numpy as np\n",
    "\n",
    "\n",
    "intdf = pd.DataFrame(np.random.randint(100, size = (3,2)))\n",
    "\n",
    "print(intdf)\n",
    "print(intdf.describe())\n",
    "print(intdf.mean())\n",
    "print(intdf.corr())\n",
    "print(intdf.count())\n",
    "print(intdf.max())\n",
    "print(intdf.min())\n",
    "print(intdf.median())\n",
    "print(intdf.std())"
   ]
  },
  {
   "cell_type": "code",
   "execution_count": null,
   "id": "4903a431-5afc-49af-9956-21f560e6d725",
   "metadata": {},
   "outputs": [],
   "source": [
    "marks= {\n",
    "    \"name\":['sita', 'gita'],\n",
    "    \"marks\":[83, 93],\n",
    "    \"city\":[\"delhi\", \"hyderabad\"]\n",
    "}\n",
    "df=pd.DataFrame(marks)\n",
    "df\n",
    "\n",
    "df.describe()\n",
    "print(intdf.mean())\n",
    "print(intdf.corr())\n",
    "print(intdf.count())\n",
    "print(intdf.max())\n",
    "print(intdf.min())\n",
    "print(intdf.median())\n",
    "print(intdf.std())"
   ]
  },
  {
   "cell_type": "code",
   "execution_count": null,
   "id": "17951e9e-9fd9-4720-99c7-34676ec8deea",
   "metadata": {},
   "outputs": [],
   "source": [
    "data = pd.read_excel('data.xlsx')"
   ]
  },
  {
   "cell_type": "code",
   "execution_count": null,
   "id": "c3ef6ffb-1f0c-44cc-9191-be6698747c5a",
   "metadata": {},
   "outputs": [],
   "source": []
  }
 ],
 "metadata": {
  "kernelspec": {
   "display_name": "Python 3 (ipykernel)",
   "language": "python",
   "name": "python3"
  },
  "language_info": {
   "codemirror_mode": {
    "name": "ipython",
    "version": 3
   },
   "file_extension": ".py",
   "mimetype": "text/x-python",
   "name": "python",
   "nbconvert_exporter": "python",
   "pygments_lexer": "ipython3",
   "version": "3.11.4"
  }
 },
 "nbformat": 4,
 "nbformat_minor": 5
}
