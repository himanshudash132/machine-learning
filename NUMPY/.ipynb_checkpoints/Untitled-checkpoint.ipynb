{
 "cells": [
  {
   "cell_type": "markdown",
   "id": "68aece88-ebab-414e-b364-4fd3409b8907",
   "metadata": {},
   "source": [
    "# continued"
   ]
  },
  {
   "cell_type": "code",
   "execution_count": 1,
   "id": "a1c4c97e-dce6-44fb-9966-73fdba4f1864",
   "metadata": {},
   "outputs": [],
   "source": [
    "welcome to numpy tutorial\n",
    "\n",
    "\n",
    "import numpy as np\n",
    "myarr = np.array([[3,6,32,7]], np.int64)\n",
    "\n",
    "myarr[0,1]\n",
    "6\n",
    "\n",
    "myarr.shape\n",
    "(1, 4)\n",
    "\n",
    "myarr.dtype\n",
    "dtype('int64')\n",
    "\n",
    "myarr[0,1] = 45\n",
    "myarr\n",
    "array([[ 3, 45, 32,  7]], dtype=int64)\n",
    "\n",
    "Array creation: Conversion from the other python strutures\n",
    "\n",
    "listarray = np.array([[1,2,3], [5,8,5], [0,3,1]])\n",
    "listarray\n",
    "array([[1, 2, 3],\n",
    "       [5, 8, 5],\n",
    "       [0, 3, 1]])\n",
    "\n",
    "listarray.dtype\n",
    "dtype('int32')\n",
    "\n",
    "listarray.shape\n",
    "(3, 3)\n",
    "\n",
    "listarray.size\n",
    "9\n",
    "\n",
    "np.array({34,23,23})\n",
    "array({34, 23}, dtype=object)\n",
    "\n",
    "zeros =np.zeros((2,5))\n",
    "zeros\n",
    "array([[0., 0., 0., 0., 0.],\n",
    "       [0., 0., 0., 0., 0.]])\n",
    "\n",
    "zeros.shape\n",
    "(2, 5)\n",
    "\n",
    "zeros.dtype\n",
    "dtype('float64')\n",
    "\n",
    "\n",
    "rng = np.arange(15)\n",
    "rng \n",
    "array([ 0,  1,  2,  3,  4,  5,  6,  7,  8,  9, 10, 11, 12, 13, 14])\n",
    "\n",
    "lspace = np.linspace(1,5,4)\n",
    "lspace\n",
    "array([1.        , 2.33333333, 3.66666667, 5.        ])\n",
    "\n",
    "emp = np.empty((4,6))\n",
    "emp\n",
    "array([[6.23042070e-307, 4.67296746e-307, 1.69121096e-306,\n",
    "        2.78146625e-307, 1.42413555e-306, 1.78019082e-306],\n",
    "       [1.37959740e-306, 6.23057349e-307, 1.02360935e-306,\n",
    "        1.69120416e-306, 1.78022342e-306, 6.23058028e-307],\n",
    "       [1.06811422e-306, 9.45699680e-308, 1.11258854e-306,\n",
    "        1.11261502e-306, 1.42410839e-306, 7.56597770e-307],\n",
    "       [6.23059726e-307, 1.42419530e-306, 6.89805151e-307,\n",
    "        1.78020169e-306, 1.42410974e-306, 2.22522596e-306]])\n",
    "\n",
    "emp_like = np.empty_like(lspace)\n",
    "emp_like\n",
    "array([1.        , 2.33333333, 3.66666667, 5.        ])\n",
    "\n",
    "ide =  np.identity(45)\n",
    "ide\n",
    "array([[1., 0., 0., ..., 0., 0., 0.],\n",
    "       [0., 1., 0., ..., 0., 0., 0.],\n",
    "       [0., 0., 1., ..., 0., 0., 0.],\n",
    "       ...,\n",
    "       [0., 0., 0., ..., 1., 0., 0.],\n",
    "       [0., 0., 0., ..., 0., 1., 0.],\n",
    "       [0., 0., 0., ..., 0., 0., 1.]])\n",
    "\n",
    "ide.shape\n",
    "(45, 45)\n",
    "\n",
    "arr = np.arange(99)\n",
    "arr\n",
    "array([ 0,  1,  2,  3,  4,  5,  6,  7,  8,  9, 10, 11, 12, 13, 14, 15, 16,\n",
    "       17, 18, 19, 20, 21, 22, 23, 24, 25, 26, 27, 28, 29, 30, 31, 32, 33,\n",
    "       34, 35, 36, 37, 38, 39, 40, 41, 42, 43, 44, 45, 46, 47, 48, 49, 50,\n",
    "       51, 52, 53, 54, 55, 56, 57, 58, 59, 60, 61, 62, 63, 64, 65, 66, 67,\n",
    "       68, 69, 70, 71, 72, 73, 74, 75, 76, 77, 78, 79, 80, 81, 82, 83, 84,\n",
    "       85, 86, 87, 88, 89, 90, 91, 92, 93, 94, 95, 96, 97, 98])\n",
    "       \n",
    "arr = arr.reshape(3,33)\n",
    "arr\n",
    "array([[ 0,  1,  2,  3,  4,  5,  6,  7,  8,  9, 10, 11, 12, 13, 14, 15,\n",
    "        16, 17, 18, 19, 20, 21, 22, 23, 24, 25, 26, 27, 28, 29, 30, 31,\n",
    "        32],\n",
    "       [33, 34, 35, 36, 37, 38, 39, 40, 41, 42, 43, 44, 45, 46, 47, 48,\n",
    "        49, 50, 51, 52, 53, 54, 55, 56, 57, 58, 59, 60, 61, 62, 63, 64,\n",
    "        65],\n",
    "       [66, 67, 68, 69, 70, 71, 72, 73, 74, 75, 76, 77, 78, 79, 80, 81,\n",
    "        82, 83, 84, 85, 86, 87, 88, 89, 90, 91, 92, 93, 94, 95, 96, 97,\n",
    "        98]])\n",
    "arr = arr.ravel()\n",
    "arr\n",
    "array([ 0,  1,  2,  3,  4,  5,  6,  7,  8,  9, 10, 11, 12, 13, 14, 15, 16,\n",
    "       17, 18, 19, 20, 21, 22, 23, 24, 25, 26, 27, 28, 29, 30, 31, 32, 33,\n",
    "       34, 35, 36, 37, 38, 39, 40, 41, 42, 43, 44, 45, 46, 47, 48, 49, 50,\n",
    "       51, 52, 53, 54, 55, 56, 57, 58, 59, 60, 61, 62, 63, 64, 65, 66, 67,\n",
    "       68, 69, 70, 71, 72, 73, 74, 75, 76, 77, 78, 79, 80, 81, 82, 83, 84,\n",
    "       85, 86, 87, 88, 89, 90, 91, 92, 93, 94, 95, 96, 97, 98])\n",
    "arr.shape\n",
    "(99,)\n",
    "\n",
    "\n",
    "\n",
    "\n",
    "\n",
    "\n",
    "\n",
    "\n",
    "\n",
    "continued\n",
    "\n",
    "\n",
    "\n",
    "np_ar\n",
    "\n",
    "np_ar\n",
    "\n",
    "x = [[1,2,3],[4,5,6],[7,1,0]]\n",
    "ar = np.array(x)\n",
    "ar\n",
    "array([[1, 2, 3],\n",
    "       [4, 5, 6],\n",
    "       [7, 1, 0]])\n",
    "ar.sum(axis=0)\n",
    "array([12,  8,  9])\n",
    "ar.sum(axis=1)\n",
    "array([ 6, 15,  8])\n",
    "Selection deleted\n",
    "ar.T\n",
    "array([[1, 4, 7],\n",
    "       [2, 5, 1],\n",
    "       [3, 6, 0]])\n",
    "ar.T.T\n",
    "array([[1, 2, 3],\n",
    "       [4, 5, 6],\n",
    "       [7, 1, 0]])\n",
    "ar.flat\n",
    "<numpy.flatiter at 0x27b8a5c1b10>\n",
    "for item in ar.flat:\n",
    "    print(item)\n",
    "1\n",
    "2\n",
    "3\n",
    "4\n",
    "5\n",
    "6\n",
    "7\n",
    "1\n",
    "0\n",
    "ar.ndim\n",
    "2\n",
    "ar.size\n",
    "9\n",
    "ar.nbytes\n",
    "36\n",
    "one = np.array([1,3,4,634,2])\n",
    "one.argmax()\n",
    "3\n",
    "one.argsort()\n",
    "array([0, 4, 1, 2, 3], dtype=int64)\n",
    "one.argmin()\n",
    "0\n",
    "ar.argmax(axis=0)\n",
    "array([2, 1, 1], dtype=int64)\n",
    "Selection deleted\n",
    "ar.argmin(axis=1)\n",
    "array([0, 0, 2], dtype=int64)\n",
    "ar.argsort()\n",
    "array([[0, 1, 2],\n",
    "       [0, 1, 2],\n",
    "       [2, 1, 0]], dtype=int64)\n",
    "ar.argmin()\n",
    "8\n",
    "ar.argmax()\n",
    "6\n",
    "ar.argmax(axis=1)\n",
    "array([2, 2, 0], dtype=int64)\n",
    "ar.argmin(axis=0)\n",
    "array([0, 2, 2], dtype=int64)\n",
    "ar.argsort(axis=0)\n",
    "array([[0, 2, 2],\n",
    "       [1, 0, 0],\n",
    "       [2, 1, 1]], dtype=int64)\n",
    "ar.argsort(axis=1)\n",
    "array([[0, 1, 2],\n",
    "       [0, 1, 2],\n",
    "       [2, 1, 0]], dtype=int64)\n",
    "ar.ravel()\n",
    "array([1, 2, 3, 4, 5, 6, 7, 1, 0])\n",
    "ar.reshape((9,))\n",
    "array([1, 2, 3, 4, 5, 6, 7, 1, 0])\n",
    "ar.reshape((9,1))\n",
    "array([[1],\n",
    "       [2],\n",
    "       [3],\n",
    "       [4],\n",
    "       [5],\n",
    "       [6],\n",
    "       [7],\n",
    "       [1],\n",
    "       [0]])\n",
    "ar\n",
    "array([[1, 2, 3],\n",
    "       [4, 5, 6],\n",
    "       [7, 1, 0]])\n",
    "ar2 = np.array([[1,2,1],[4,0,6],[8,1,0]])\n",
    "ar2\n",
    "array([[1, 2, 1],\n",
    "       [4, 0, 6],\n",
    "       [8, 1, 0]])\n",
    "ar + ar2\n",
    "array([[ 2,  4,  4],\n",
    "       [ 8,  5, 12],\n",
    "       [15,  2,  0]])\n",
    "[324, 34] + [34, 543]\n",
    "[324, 34, 34, 543]\n",
    "ar*ar2\n",
    "array([[ 1,  4,  3],\n",
    "       [16,  0, 36],\n",
    "       [56,  1,  0]])\n",
    "ar-ar2\n",
    "array([[ 0,  0,  2],\n",
    "       [ 0,  5,  0],\n",
    "       [-1,  0,  0]])\n",
    "Selection deleted\n",
    "np.sqrt(ar)\n",
    "array([[1.        , 1.41421356, 1.73205081],\n",
    "       [2.        , 2.23606798, 2.44948974],\n",
    "       [2.64575131, 1.        , 0.        ]])\n",
    "ar.sum()\n",
    "29\n",
    "ar.max()\n",
    "7\n",
    "ar\n",
    "array([[1, 2, 3],\n",
    "       [4, 5, 6],\n",
    "       [7, 1, 0]])\n",
    "ar.min()\n",
    "0\n",
    "np.where(ar>5)\n",
    "(array([1, 2], dtype=int64), array([2, 0], dtype=int64))\n",
    "np.where(ar==5)\n",
    "(array([1], dtype=int64), array([1], dtype=int64))\n",
    "type(np.where(ar>5))\n",
    "tuple\n",
    "np.where(ar<5)\n",
    "(array([0, 0, 0, 1, 2, 2], dtype=int64),\n",
    " array([0, 1, 2, 0, 1, 2], dtype=int64))\n",
    "np.count_nonzero(ar)\n",
    "8\n",
    "Selection deleted\n",
    "np.nonzero(ar)\n",
    "(array([0, 0, 0, 1, 1, 1, 2, 2], dtype=int64),\n",
    " array([0, 1, 2, 0, 1, 2, 0, 1], dtype=int64))\n",
    "ar[1,2] = 0\n",
    "np.nonzero(ar)\n",
    "(array([0, 0, 0, 1, 1, 2, 2], dtype=int64),\n",
    " array([0, 1, 2, 0, 1, 0, 1], dtype=int64))\n",
    "import sys\n",
    "py_ar = [0,4,55,2]\n",
    "np_ar = np.array(py_ar)\n",
    "sys.getsizeof(1)* len(py_ar)\n",
    "112\n",
    "np_ar.itemsize * np_ar.size\n",
    "16\n",
    "\n",
    "\n",
    "np_ar.tolist()\n",
    "[0, 4, 55, 2]\n",
    "\n",
    "\n"
   ]
  },
  {
   "cell_type": "code",
   "execution_count": 2,
   "id": "0dd83018-da20-4d1a-8544-a4d9b81a6b8e",
   "metadata": {},
   "outputs": [],
   "source": [
    "\n",
    "\n",
    "\n",
    "x = [[1,2,3],[4,5,6],[7,1,0]]"
   ]
  },
  {
   "cell_type": "code",
   "execution_count": 3,
   "id": "37db56ce-be60-4a62-8339-f27b6614f0a9",
   "metadata": {},
   "outputs": [],
   "source": [
    "ar = np.array(x)"
   ]
  },
  {
   "cell_type": "markdown",
   "id": "bebe4dd1",
   "metadata": {},
   "source": []
  },
  {
   "cell_type": "code",
   "execution_count": 4,
   "id": "50d4fa23-32bc-4887-a385-2bf3152ffb5c",
   "metadata": {},
   "outputs": [
    {
     "data": {
      "text/plain": [
       "array([[1, 2, 3],\n",
       "       [4, 5, 6],\n",
       "       [7, 1, 0]])"
      ]
     },
     "execution_count": 4,
     "metadata": {},
     "output_type": "execute_result"
    }
   ],
   "source": [
    "ar"
   ]
  },
  {
   "cell_type": "code",
   "execution_count": 5,
   "id": "02115617-18c9-487d-b299-19b11d203c61",
   "metadata": {},
   "outputs": [
    {
     "data": {
      "text/plain": [
       "array([12,  8,  9])"
      ]
     },
     "execution_count": 5,
     "metadata": {},
     "output_type": "execute_result"
    }
   ],
   "source": [
    "ar.sum(axis=0)"
   ]
  },
  {
   "cell_type": "code",
   "execution_count": 6,
   "id": "eaf3b662-ee97-45aa-af68-04ca35129a38",
   "metadata": {},
   "outputs": [
    {
     "data": {
      "text/plain": [
       "array([ 6, 15,  8])"
      ]
     },
     "execution_count": 6,
     "metadata": {},
     "output_type": "execute_result"
    }
   ],
   "source": [
    "ar.sum(axis=1)"
   ]
  },
  {
   "cell_type": "code",
   "execution_count": 10,
   "id": "87770bf3-5ad5-410e-b8ba-1e6768170986",
   "metadata": {},
   "outputs": [
    {
     "data": {
      "text/plain": [
       "array([[1, 4, 7],\n",
       "       [2, 5, 1],\n",
       "       [3, 6, 0]])"
      ]
     },
     "execution_count": 10,
     "metadata": {},
     "output_type": "execute_result"
    }
   ],
   "source": [
    "ar.T"
   ]
  },
  {
   "cell_type": "code",
   "execution_count": 11,
   "id": "92f6c5fa-f3ee-453c-bfff-46fc3263b250",
   "metadata": {},
   "outputs": [
    {
     "data": {
      "text/plain": [
       "array([[1, 2, 3],\n",
       "       [4, 5, 6],\n",
       "       [7, 1, 0]])"
      ]
     },
     "execution_count": 11,
     "metadata": {},
     "output_type": "execute_result"
    }
   ],
   "source": [
    "ar.T.T"
   ]
  },
  {
   "cell_type": "code",
   "execution_count": 12,
   "id": "7b451559-5987-496a-ae16-cfb047b615c1",
   "metadata": {},
   "outputs": [
    {
     "data": {
      "text/plain": [
       "<numpy.flatiter at 0x27b8a5c1b10>"
      ]
     },
     "execution_count": 12,
     "metadata": {},
     "output_type": "execute_result"
    }
   ],
   "source": [
    "ar.flat"
   ]
  },
  {
   "cell_type": "code",
   "execution_count": 13,
   "id": "1393fda0-6f80-4323-8edd-04e939c2825d",
   "metadata": {},
   "outputs": [
    {
     "name": "stdout",
     "output_type": "stream",
     "text": [
      "1\n",
      "2\n",
      "3\n",
      "4\n",
      "5\n",
      "6\n",
      "7\n",
      "1\n",
      "0\n"
     ]
    }
   ],
   "source": [
    "for item in ar.flat:\n",
    "    print(item)"
   ]
  },
  {
   "cell_type": "code",
   "execution_count": 15,
   "id": "1663ad76-e4ee-43a8-ac2c-5b08a58a043e",
   "metadata": {},
   "outputs": [
    {
     "data": {
      "text/plain": [
       "2"
      ]
     },
     "execution_count": 15,
     "metadata": {},
     "output_type": "execute_result"
    }
   ],
   "source": [
    "ar.ndim"
   ]
  },
  {
   "cell_type": "code",
   "execution_count": 16,
   "id": "05f9a711-cc05-4cc1-babc-419c3e00344e",
   "metadata": {},
   "outputs": [
    {
     "data": {
      "text/plain": [
       "9"
      ]
     },
     "execution_count": 16,
     "metadata": {},
     "output_type": "execute_result"
    }
   ],
   "source": [
    "ar.size"
   ]
  },
  {
   "cell_type": "code",
   "execution_count": 17,
   "id": "104405bc-61e9-4b15-8e1a-c59009398557",
   "metadata": {},
   "outputs": [
    {
     "data": {
      "text/plain": [
       "36"
      ]
     },
     "execution_count": 17,
     "metadata": {},
     "output_type": "execute_result"
    }
   ],
   "source": [
    "ar.nbytes"
   ]
  },
  {
   "cell_type": "code",
   "execution_count": 19,
   "id": "f59b8017-4418-4d67-be8e-e6dac95eeddd",
   "metadata": {},
   "outputs": [],
   "source": [
    "one = np.array([1,3,4,634,2])"
   ]
  },
  {
   "cell_type": "code",
   "execution_count": 20,
   "id": "c3f2a158-862f-418c-b434-49e2e089c773",
   "metadata": {},
   "outputs": [
    {
     "data": {
      "text/plain": [
       "3"
      ]
     },
     "execution_count": 20,
     "metadata": {},
     "output_type": "execute_result"
    }
   ],
   "source": [
    "one.argmax()"
   ]
  },
  {
   "cell_type": "code",
   "execution_count": 21,
   "id": "597e955e-b83c-4c75-b43b-014fef19817d",
   "metadata": {},
   "outputs": [
    {
     "data": {
      "text/plain": [
       "array([0, 4, 1, 2, 3], dtype=int64)"
      ]
     },
     "execution_count": 21,
     "metadata": {},
     "output_type": "execute_result"
    }
   ],
   "source": [
    "one.argsort()"
   ]
  },
  {
   "cell_type": "code",
   "execution_count": 22,
   "id": "4df15903-9e75-42f9-8c2c-d38b896a5831",
   "metadata": {},
   "outputs": [
    {
     "data": {
      "text/plain": [
       "0"
      ]
     },
     "execution_count": 22,
     "metadata": {},
     "output_type": "execute_result"
    }
   ],
   "source": [
    "one.argmin()"
   ]
  },
  {
   "cell_type": "code",
   "execution_count": 27,
   "id": "77beb6f8-f911-49cc-9adf-f5261f9a7547",
   "metadata": {},
   "outputs": [
    {
     "data": {
      "text/plain": [
       "array([2, 1, 1], dtype=int64)"
      ]
     },
     "execution_count": 27,
     "metadata": {},
     "output_type": "execute_result"
    }
   ],
   "source": [
    "ar.argmax(axis=0)"
   ]
  },
  {
   "cell_type": "code",
   "execution_count": 29,
   "id": "d98db1f9-abb2-4e8a-8e59-a7fe13fcc417",
   "metadata": {},
   "outputs": [
    {
     "data": {
      "text/plain": [
       "array([0, 0, 2], dtype=int64)"
      ]
     },
     "execution_count": 29,
     "metadata": {},
     "output_type": "execute_result"
    }
   ],
   "source": [
    "ar.argmin(axis=1)"
   ]
  },
  {
   "cell_type": "code",
   "execution_count": 30,
   "id": "4f6c52c7-4ed5-4267-b247-4a22f42e81eb",
   "metadata": {},
   "outputs": [
    {
     "data": {
      "text/plain": [
       "array([[0, 1, 2],\n",
       "       [0, 1, 2],\n",
       "       [2, 1, 0]], dtype=int64)"
      ]
     },
     "execution_count": 30,
     "metadata": {},
     "output_type": "execute_result"
    }
   ],
   "source": [
    "ar.argsort()"
   ]
  },
  {
   "cell_type": "code",
   "execution_count": 31,
   "id": "64ce47ef-de93-49ff-b7ce-cebc440cffde",
   "metadata": {},
   "outputs": [
    {
     "data": {
      "text/plain": [
       "8"
      ]
     },
     "execution_count": 31,
     "metadata": {},
     "output_type": "execute_result"
    }
   ],
   "source": [
    "ar.argmin()"
   ]
  },
  {
   "cell_type": "code",
   "execution_count": 32,
   "id": "d73194e6-8eca-4101-8166-20648df796f5",
   "metadata": {},
   "outputs": [
    {
     "data": {
      "text/plain": [
       "6"
      ]
     },
     "execution_count": 32,
     "metadata": {},
     "output_type": "execute_result"
    }
   ],
   "source": [
    "ar.argmax()"
   ]
  },
  {
   "cell_type": "code",
   "execution_count": 33,
   "id": "36efceab-778a-4504-bb05-c27b2f8729cd",
   "metadata": {},
   "outputs": [
    {
     "data": {
      "text/plain": [
       "array([2, 2, 0], dtype=int64)"
      ]
     },
     "execution_count": 33,
     "metadata": {},
     "output_type": "execute_result"
    }
   ],
   "source": [
    "ar.argmax(axis=1)"
   ]
  },
  {
   "cell_type": "code",
   "execution_count": 34,
   "id": "b7dfce1b-fd13-4e88-b5fe-27a51687ff38",
   "metadata": {},
   "outputs": [
    {
     "data": {
      "text/plain": [
       "array([0, 2, 2], dtype=int64)"
      ]
     },
     "execution_count": 34,
     "metadata": {},
     "output_type": "execute_result"
    }
   ],
   "source": [
    "ar.argmin(axis=0)"
   ]
  },
  {
   "cell_type": "code",
   "execution_count": 35,
   "id": "e8f4e584-7665-404f-829e-028981033578",
   "metadata": {},
   "outputs": [
    {
     "data": {
      "text/plain": [
       "array([[0, 2, 2],\n",
       "       [1, 0, 0],\n",
       "       [2, 1, 1]], dtype=int64)"
      ]
     },
     "execution_count": 35,
     "metadata": {},
     "output_type": "execute_result"
    }
   ],
   "source": [
    "ar.argsort(axis=0)"
   ]
  },
  {
   "cell_type": "code",
   "execution_count": 36,
   "id": "2f6374fd-370f-4ee7-b14c-a13208aec245",
   "metadata": {},
   "outputs": [
    {
     "data": {
      "text/plain": [
       "array([[0, 1, 2],\n",
       "       [0, 1, 2],\n",
       "       [2, 1, 0]], dtype=int64)"
      ]
     },
     "execution_count": 36,
     "metadata": {},
     "output_type": "execute_result"
    }
   ],
   "source": [
    "ar.argsort(axis=1)"
   ]
  },
  {
   "cell_type": "code",
   "execution_count": 37,
   "id": "6ad16c06-bb31-412f-b19b-c7bfcf9cc9b7",
   "metadata": {},
   "outputs": [
    {
     "data": {
      "text/plain": [
       "array([1, 2, 3, 4, 5, 6, 7, 1, 0])"
      ]
     },
     "execution_count": 37,
     "metadata": {},
     "output_type": "execute_result"
    }
   ],
   "source": [
    "ar.ravel()"
   ]
  },
  {
   "cell_type": "code",
   "execution_count": 40,
   "id": "5134df48-6485-4e7c-8891-510dab17a407",
   "metadata": {},
   "outputs": [
    {
     "data": {
      "text/plain": [
       "array([1, 2, 3, 4, 5, 6, 7, 1, 0])"
      ]
     },
     "execution_count": 40,
     "metadata": {},
     "output_type": "execute_result"
    }
   ],
   "source": [
    "ar.reshape((9,))"
   ]
  },
  {
   "cell_type": "code",
   "execution_count": 41,
   "id": "239425d5-c94c-44ed-a229-153f0b8561e6",
   "metadata": {},
   "outputs": [
    {
     "data": {
      "text/plain": [
       "array([[1],\n",
       "       [2],\n",
       "       [3],\n",
       "       [4],\n",
       "       [5],\n",
       "       [6],\n",
       "       [7],\n",
       "       [1],\n",
       "       [0]])"
      ]
     },
     "execution_count": 41,
     "metadata": {},
     "output_type": "execute_result"
    }
   ],
   "source": [
    "ar.reshape((9,1))"
   ]
  },
  {
   "cell_type": "code",
   "execution_count": 42,
   "id": "88370293-273c-4a9d-b4ca-3beab0109144",
   "metadata": {},
   "outputs": [
    {
     "data": {
      "text/plain": [
       "array([[1, 2, 3],\n",
       "       [4, 5, 6],\n",
       "       [7, 1, 0]])"
      ]
     },
     "execution_count": 42,
     "metadata": {},
     "output_type": "execute_result"
    }
   ],
   "source": [
    "ar"
   ]
  },
  {
   "cell_type": "code",
   "execution_count": 43,
   "id": "75728b2f-f925-4c35-9757-92db8eccca5e",
   "metadata": {},
   "outputs": [],
   "source": [
    "ar2 = np.array([[1,2,1],[4,0,6],[8,1,0]])"
   ]
  },
  {
   "cell_type": "code",
   "execution_count": 44,
   "id": "a64112eb-cde9-4895-ae11-056767f18655",
   "metadata": {},
   "outputs": [
    {
     "data": {
      "text/plain": [
       "array([[1, 2, 1],\n",
       "       [4, 0, 6],\n",
       "       [8, 1, 0]])"
      ]
     },
     "execution_count": 44,
     "metadata": {},
     "output_type": "execute_result"
    }
   ],
   "source": [
    "ar2"
   ]
  },
  {
   "cell_type": "code",
   "execution_count": 45,
   "id": "60bf005a-23e2-4b42-9a4f-0d4a07383a67",
   "metadata": {},
   "outputs": [
    {
     "data": {
      "text/plain": [
       "array([[ 2,  4,  4],\n",
       "       [ 8,  5, 12],\n",
       "       [15,  2,  0]])"
      ]
     },
     "execution_count": 45,
     "metadata": {},
     "output_type": "execute_result"
    }
   ],
   "source": [
    "ar + ar2"
   ]
  },
  {
   "cell_type": "code",
   "execution_count": 46,
   "id": "72d1d139-4888-4fcf-b185-d161bb5c25e6",
   "metadata": {},
   "outputs": [
    {
     "data": {
      "text/plain": [
       "[324, 34, 34, 543]"
      ]
     },
     "execution_count": 46,
     "metadata": {},
     "output_type": "execute_result"
    }
   ],
   "source": [
    "[324, 34] + [34, 543]"
   ]
  },
  {
   "cell_type": "code",
   "execution_count": 47,
   "id": "fa9bb691-9c78-436e-a544-7ea8b9742a8d",
   "metadata": {},
   "outputs": [
    {
     "data": {
      "text/plain": [
       "array([[ 1,  4,  3],\n",
       "       [16,  0, 36],\n",
       "       [56,  1,  0]])"
      ]
     },
     "execution_count": 47,
     "metadata": {},
     "output_type": "execute_result"
    }
   ],
   "source": [
    "ar*ar2"
   ]
  },
  {
   "cell_type": "code",
   "execution_count": 51,
   "id": "868c78c6-f12f-46bb-ac4b-40b8b8756886",
   "metadata": {},
   "outputs": [
    {
     "data": {
      "text/plain": [
       "array([[ 0,  0,  2],\n",
       "       [ 0,  5,  0],\n",
       "       [-1,  0,  0]])"
      ]
     },
     "execution_count": 51,
     "metadata": {},
     "output_type": "execute_result"
    }
   ],
   "source": [
    "ar-ar2"
   ]
  },
  {
   "cell_type": "code",
   "execution_count": 53,
   "id": "69be6685-7aa8-4da9-adad-3475e259c8e0",
   "metadata": {},
   "outputs": [
    {
     "data": {
      "text/plain": [
       "array([[1.        , 1.41421356, 1.73205081],\n",
       "       [2.        , 2.23606798, 2.44948974],\n",
       "       [2.64575131, 1.        , 0.        ]])"
      ]
     },
     "execution_count": 53,
     "metadata": {},
     "output_type": "execute_result"
    }
   ],
   "source": [
    "np.sqrt(ar)"
   ]
  },
  {
   "cell_type": "code",
   "execution_count": 54,
   "id": "ba2c81da-3109-4001-8518-4d68319c96f7",
   "metadata": {},
   "outputs": [
    {
     "data": {
      "text/plain": [
       "29"
      ]
     },
     "execution_count": 54,
     "metadata": {},
     "output_type": "execute_result"
    }
   ],
   "source": [
    "ar.sum()"
   ]
  },
  {
   "cell_type": "code",
   "execution_count": 55,
   "id": "28fb5c60-1499-4dd8-834c-11ed219695e6",
   "metadata": {},
   "outputs": [
    {
     "data": {
      "text/plain": [
       "7"
      ]
     },
     "execution_count": 55,
     "metadata": {},
     "output_type": "execute_result"
    }
   ],
   "source": [
    "ar.max()"
   ]
  },
  {
   "cell_type": "code",
   "execution_count": 59,
   "id": "d842db34-4b49-4751-a1d4-5fbf3b1d1692",
   "metadata": {},
   "outputs": [
    {
     "data": {
      "text/plain": [
       "array([[1, 2, 3],\n",
       "       [4, 5, 6],\n",
       "       [7, 1, 0]])"
      ]
     },
     "execution_count": 59,
     "metadata": {},
     "output_type": "execute_result"
    }
   ],
   "source": [
    "ar"
   ]
  },
  {
   "cell_type": "code",
   "execution_count": 56,
   "id": "1c36c674-68c4-4a29-a3dd-cbded5c32fca",
   "metadata": {},
   "outputs": [
    {
     "data": {
      "text/plain": [
       "0"
      ]
     },
     "execution_count": 56,
     "metadata": {},
     "output_type": "execute_result"
    }
   ],
   "source": [
    "ar.min()"
   ]
  },
  {
   "cell_type": "code",
   "execution_count": 58,
   "id": "61483441-ba9b-40c7-8101-8eb867f10a68",
   "metadata": {},
   "outputs": [
    {
     "data": {
      "text/plain": [
       "(array([1, 2], dtype=int64), array([2, 0], dtype=int64))"
      ]
     },
     "execution_count": 58,
     "metadata": {},
     "output_type": "execute_result"
    }
   ],
   "source": [
    "np.where(ar>5)"
   ]
  },
  {
   "cell_type": "code",
   "execution_count": 62,
   "id": "f161c84b-d2c4-478b-aa2b-2bee7577eae4",
   "metadata": {},
   "outputs": [
    {
     "data": {
      "text/plain": [
       "(array([1], dtype=int64), array([1], dtype=int64))"
      ]
     },
     "execution_count": 62,
     "metadata": {},
     "output_type": "execute_result"
    }
   ],
   "source": [
    "np.where(ar==5)"
   ]
  },
  {
   "cell_type": "code",
   "execution_count": 63,
   "id": "c930266e-d839-4220-9f79-ccecbb8c0c12",
   "metadata": {},
   "outputs": [
    {
     "data": {
      "text/plain": [
       "tuple"
      ]
     },
     "execution_count": 63,
     "metadata": {},
     "output_type": "execute_result"
    }
   ],
   "source": [
    "type(np.where(ar>5))"
   ]
  },
  {
   "cell_type": "code",
   "execution_count": 64,
   "id": "aa7f25d9-9170-4815-a9e4-d081a2098b5c",
   "metadata": {},
   "outputs": [
    {
     "data": {
      "text/plain": [
       "(array([0, 0, 0, 1, 2, 2], dtype=int64),\n",
       " array([0, 1, 2, 0, 1, 2], dtype=int64))"
      ]
     },
     "execution_count": 64,
     "metadata": {},
     "output_type": "execute_result"
    }
   ],
   "source": [
    "np.where(ar<5)"
   ]
  },
  {
   "cell_type": "code",
   "execution_count": 65,
   "id": "91b6f26c-1872-4743-8a28-c687d8e2cc71",
   "metadata": {},
   "outputs": [
    {
     "data": {
      "text/plain": [
       "8"
      ]
     },
     "execution_count": 65,
     "metadata": {},
     "output_type": "execute_result"
    }
   ],
   "source": [
    "np.count_nonzero(ar)"
   ]
  },
  {
   "cell_type": "code",
   "execution_count": 66,
   "id": "ea4ec11d-52b9-471d-8dcc-c912666f1275",
   "metadata": {},
   "outputs": [
    {
     "data": {
      "text/plain": [
       "(array([0, 0, 0, 1, 1, 1, 2, 2], dtype=int64),\n",
       " array([0, 1, 2, 0, 1, 2, 0, 1], dtype=int64))"
      ]
     },
     "execution_count": 66,
     "metadata": {},
     "output_type": "execute_result"
    }
   ],
   "source": [
    "np.nonzero(ar)"
   ]
  },
  {
   "cell_type": "code",
   "execution_count": 67,
   "id": "770b8e60-2f92-4a73-9601-7019b2cc4ba4",
   "metadata": {},
   "outputs": [],
   "source": [
    "ar[1,2] = 0"
   ]
  },
  {
   "cell_type": "code",
   "execution_count": 68,
   "id": "d87268b7-5f2d-4b16-b75f-212f6eb2eea3",
   "metadata": {},
   "outputs": [
    {
     "data": {
      "text/plain": [
       "(array([0, 0, 0, 1, 1, 2, 2], dtype=int64),\n",
       " array([0, 1, 2, 0, 1, 0, 1], dtype=int64))"
      ]
     },
     "execution_count": 68,
     "metadata": {},
     "output_type": "execute_result"
    }
   ],
   "source": [
    "np.nonzero(ar)"
   ]
  },
  {
   "cell_type": "code",
   "execution_count": 69,
   "id": "bda14049-31a6-4fd1-a58c-3a712141cfc8",
   "metadata": {},
   "outputs": [],
   "source": [
    "import sys"
   ]
  },
  {
   "cell_type": "code",
   "execution_count": 71,
   "id": "10e01ab1-3176-499d-9adc-a6405b7cc122",
   "metadata": {},
   "outputs": [],
   "source": [
    "py_ar = [0,4,55,2]"
   ]
  },
  {
   "cell_type": "code",
   "execution_count": 73,
   "id": "937313f7-a988-4bef-a6e1-cf6fbdf52a8d",
   "metadata": {},
   "outputs": [],
   "source": [
    "np_ar = np.array(py_ar)"
   ]
  },
  {
   "cell_type": "code",
   "execution_count": 74,
   "id": "2bafa881-0653-408f-a5c9-444417dac37d",
   "metadata": {},
   "outputs": [
    {
     "data": {
      "text/plain": [
       "112"
      ]
     },
     "execution_count": 74,
     "metadata": {},
     "output_type": "execute_result"
    }
   ],
   "source": [
    "sys.getsizeof(1)* len(py_ar)"
   ]
  },
  {
   "cell_type": "code",
   "execution_count": 75,
   "id": "297580a4-5c8a-4055-8f3b-d450ce905508",
   "metadata": {},
   "outputs": [
    {
     "data": {
      "text/plain": [
       "16"
      ]
     },
     "execution_count": 75,
     "metadata": {},
     "output_type": "execute_result"
    }
   ],
   "source": [
    "np_ar.itemsize * np_ar.size"
   ]
  },
  {
   "cell_type": "code",
   "execution_count": 76,
   "id": "a42c271e-e3ec-45b7-96a6-03e2ce930e18",
   "metadata": {},
   "outputs": [
    {
     "data": {
      "text/plain": [
       "[0, 4, 55, 2]"
      ]
     },
     "execution_count": 76,
     "metadata": {},
     "output_type": "execute_result"
    }
   ],
   "source": [
    "np_ar.tolist()"
   ]
  },
  {
   "cell_type": "code",
   "execution_count": null,
   "id": "0aa57dc0-7464-40e2-ba57-823d3a427c43",
   "metadata": {},
   "outputs": [],
   "source": []
  }
 ],
 "metadata": {
  "kernelspec": {
   "display_name": "Python 3 (ipykernel)",
   "language": "python",
   "name": "python3"
  },
  "language_info": {
   "codemirror_mode": {
    "name": "ipython",
    "version": 3
   },
   "file_extension": ".py",
   "mimetype": "text/x-python",
   "name": "python",
   "nbconvert_exporter": "python",
   "pygments_lexer": "ipython3",
   "version": "3.11.4"
  }
 },
 "nbformat": 4,
 "nbformat_minor": 5
}
