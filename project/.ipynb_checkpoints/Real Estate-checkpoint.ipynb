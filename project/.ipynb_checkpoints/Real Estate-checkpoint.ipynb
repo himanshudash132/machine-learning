{
 "cells": [
  {
   "cell_type": "markdown",
   "id": "2d68c761-ea6b-4b29-b04d-a9825a814504",
   "metadata": {},
   "source": [
    "## Real Estate - price predictor"
   ]
  }
 ],
 "metadata": {
  "kernelspec": {
   "display_name": "Python 3 (ipykernel)",
   "language": "python",
   "name": "python3"
  },
  "language_info": {
   "codemirror_mode": {
    "name": "ipython",
    "version": 3
   },
   "file_extension": ".py",
   "mimetype": "text/x-python",
   "name": "python",
   "nbconvert_exporter": "python",
   "pygments_lexer": "ipython3",
   "version": "3.11.4"
  }
 },
 "nbformat": 4,
 "nbformat_minor": 5
}
